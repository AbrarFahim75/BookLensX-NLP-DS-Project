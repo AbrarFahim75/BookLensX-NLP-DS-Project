{
 "cells": [
  {
   "cell_type": "markdown",
   "id": "55cbd94e-666a-456e-9272-fee6494c5fef",
   "metadata": {},
   "source": [
    "\n",
    "## How to setup Spacy"
   ]
  },
  {
   "cell_type": "markdown",
   "id": "3c5d1f78-a9ca-446b-8545-e53337f51067",
   "metadata": {},
   "source": [
    "#### Download the dataset: www.kaggle.com/datasets/naseralqaydeh/named-entity-recognition-ner-corpus"
   ]
  },
  {
   "cell_type": "markdown",
   "id": "67710181-fe76-4068-a5bc-556a8aef46d8",
   "metadata": {},
   "source": [
    "### After Downloading, we have to install Spacy from the documentation: \n",
    "\n"
   ]
  },
  {
   "cell_type": "markdown",
   "id": "cc01a9c3-921d-49f2-b8c9-48d7da2ba7b7",
   "metadata": {},
   "source": [
    "1. python -m venv .env\n",
    "2. source .env/bin/activate\n",
    "3. pip install -U pip setuptools wheel\n",
    "4. pip install -U spacy"
   ]
  },
  {
   "cell_type": "markdown",
   "id": "42a023ec-cc52-429c-9ad9-8ed11c29784c",
   "metadata": {},
   "source": [
    "#### note that after executing the second command, you can get errors like this:"
   ]
  },
  {
   "cell_type": "markdown",
   "id": "43f7d67c-08c7-4b6e-b897-fa2a1fe9b5a7",
   "metadata": {},
   "source": [
    "source : The term 'source' is not recognized as the name of a      \n",
    "cmdlet, function, script file, or operable program. Check the      \n",
    "spelling of the name, or if a path was included, verify that the   \n",
    "path is correct and try again.\n",
    "At line:1 char:1\n",
    "+ source .env/bin/activate\n",
    "+ ~~~~~~\n",
    "    + CategoryInfo          : ObjectNotFound: (source:String) [],  \n",
    "    CommandNotFoundException\n",
    "    + FullyQualifiedErrorId : CommandNotFoundException"
   ]
  },
  {
   "cell_type": "markdown",
   "id": "92983116-0a57-46bc-add9-9c5abf8bca9a",
   "metadata": {},
   "source": [
    "#### so, if you are using windows, the solution will be, run this on your powershell terminal:\n"
   ]
  },
  {
   "cell_type": "markdown",
   "id": "e89e79b4-2580-42ed-ab3d-c2b29f136ed2",
   "metadata": {},
   "source": [
    "Set-ExecutionPolicy -ExecutionPolicy RemoteSigned -Scope Process\n"
   ]
  },
  {
   "cell_type": "markdown",
   "id": "3e951420-860b-4a7f-a95d-1cca84fdb622",
   "metadata": {},
   "source": [
    "#### Then activate your virtual environment again: "
   ]
  },
  {
   "cell_type": "code",
   "execution_count": null,
   "id": "a9476ff8-46cd-4164-ac7c-92b8d605e877",
   "metadata": {},
   "outputs": [],
   "source": [
    ".\\.env\\Scripts\\Activate.ps1"
   ]
  },
  {
   "cell_type": "markdown",
   "id": "094a7183-1e8f-4a19-ac09-45f862e7795d",
   "metadata": {},
   "source": [
    "#### Then you will need to install command 3, for which you might also get an error like this:"
   ]
  },
  {
   "cell_type": "code",
   "execution_count": null,
   "id": "f29fc1ca-0340-40e2-902a-cc2076e649cf",
   "metadata": {},
   "outputs": [],
   "source": [
    "Collecting spacy\n",
    "  Using cached spacy-3.8.2.tar.gz (1.3 MB)\n",
    "  Installing build dependencies ... error\n",
    "  error: subprocess-exited-with-error\n",
    "\n",
    "  × pip subprocess to install build dependencies did not run successfully.\n",
    "  │ exit code: 1\n",
    "  ╰─> [24 lines of output]\n",
    "      Ignoring numpy: markers 'python_version < \"3.9\"' don't match \n",
    "your environment\n",
    "      Collecting setuptools\n",
    "        Using cached setuptools-80.3.1-py3-none-any.whl.metadata (6.5 kB)\n",
    "      Collecting cython<3.0,>=0.25\n",
    "        Using cached Cython-0.29.37-py2.py3-none-any.whl.metadata (3.1 kB)\n",
    "      Collecting cymem<2.1.0,>=2.0.2\n",
    "        Using cached cymem-2.0.11-cp313-cp313-win_amd64.whl.metadata (8.8 kB)\n",
    "      Collecting preshed<3.1.0,>=3.0.2\n",
    "        Using cached preshed-3.0.9.tar.gz (14 kB)\n",
    "        Installing build dependencies: started\n",
    "        Installing build dependencies: finished with status 'done' \n",
    "        Getting requirements to build wheel: started\n",
    "        Getting requirements to build wheel: finished with status 'done'\n",
    "        Preparing metadata (pyproject.toml): started\n",
    "        Preparing metadata (pyproject.toml): finished with status 'done'\n",
    "      Collecting murmurhash<1.1.0,>=0.28.0\n",
    "        Using cached murmurhash-1.0.12-cp313-cp313-win_amd64.whl.metadata (2.2 kB)\n",
    "      Collecting thinc<8.4.0,>=8.3.0\n",
    "        Using cached thinc-8.3.6-cp313-cp313-win_amd64.whl.metadata (15 kB)\n",
    "      Collecting numpy<2.1.0,>=2.0.0\n",
    "        Using cached numpy-2.0.2.tar.gz (18.9 MB)\n",
    "      ERROR: Could not install packages due to an OSError: [Errno 2] No such file or directory: 'C:\\\\Users\\\\Confused Programmer\\\\AppData\\\\Local\\\\Temp\\\\pip-install-5f9r9lmt\\\\numpy_6f1cb2a2381a44d88d861c2ec4e8b784\\\\vendored-meson\\\\meson\\\\test cases\\\\linuxlike\\\\13 cmake \n",
    "dependency\\\\cmake_pref_env\\\\lib\\\\cmake\\\\cmMesonVersionedTestDep\\\\cmMesonVersionedTestDepConfigVersion.cmake'\n",
    "      HINT: This error might have occurred since this system does not have Windows Long Path support enabled. You can find information on how to enable this at https://pip.pypa.io/warnings/enable-long-paths\n",
    "     \n",
    "      [end of output]\n",
    "\n",
    "  note: This error originates from a subprocess, and is likely not \n",
    "a problem with pip.\n",
    "error: subprocess-exited-with-error\n",
    "\n",
    "× pip subprocess to install build dependencies did not run successfully.\n",
    "│ exit code: 1\n",
    "╰─> See above for output.\n",
    "\n",
    "note: This error originates from a subprocess, and is likely not a \n",
    "problem with pip."
   ]
  },
  {
   "cell_type": "markdown",
   "id": "9bd1bc72-63d6-441a-91cf-2790c2bd1ea7",
   "metadata": {},
   "source": [
    "#### This is how you solve it:"
   ]
  },
  {
   "cell_type": "markdown",
   "id": "bf6974b5-e3c0-4abe-bbec-4b5ea75031ff",
   "metadata": {},
   "source": [
    "Manually edit the Windows Registry (works on Home editions too)\n",
    "\n",
    "Press Win + R, type regedit, and press Enter.\n",
    "\n",
    "Navigate to:\n",
    "\n",
    "\n",
    "HKEY\\_LOCAL\\_MACHINE\\\\SYSTEM\\\\CurrentControlSet\\\\Control\\\\FileSystem\n",
    "\n",
    "\n",
    "Look for a value called LongPathsEnabled.\n",
    "\n",
    "If it doesn’t exist, create a new DWORD (32-bit) Value with that name.\n",
    "\n",
    "Set its value to 1.\n",
    "\n",
    "Restart your computer.\n",
    "\n",
    "🛠️ After Restart:\n",
    "Try installing spaCy again:\n",
    "\n",
    "\n",
    "pip install -U spacy\n"
   ]
  },
  {
   "cell_type": "markdown",
   "id": "70284ccb-d1dd-4f8c-aa0a-096b269e80ab",
   "metadata": {},
   "source": [
    "### Note: Everytime you're done with your work, do these things:\n",
    "\n",
    "1. shutdown your jupyter notebook. File -> shutdown\n",
    "2. type deactivate in your terminal to get out of the python environment.\n",
    "\n",
    "#### When you are starting to work: \n",
    "\n",
    "1. start your jupyter notebook by typing : 'jupyter lab' and press enter.\n",
    "2. start your python virtual environment by typing: '.\\.env\\Scripts\\Activate.ps1' again, if it doesn't work, type this first: 'Set-ExecutionPolicy -ExecutionPolicy RemoteSigned -Scope Process'"
   ]
  },
  {
   "cell_type": "code",
   "execution_count": null,
   "id": "51836174-9637-4d52-818f-ac468127d7c1",
   "metadata": {},
   "outputs": [],
   "source": []
  }
 ],
 "metadata": {
  "kernelspec": {
   "display_name": "Python 3 (ipykernel)",
   "language": "python",
   "name": "python3"
  },
  "language_info": {
   "codemirror_mode": {
    "name": "ipython",
    "version": 3
   },
   "file_extension": ".py",
   "mimetype": "text/x-python",
   "name": "python",
   "nbconvert_exporter": "python",
   "pygments_lexer": "ipython3",
   "version": "3.13.3"
  }
 },
 "nbformat": 4,
 "nbformat_minor": 5
}
