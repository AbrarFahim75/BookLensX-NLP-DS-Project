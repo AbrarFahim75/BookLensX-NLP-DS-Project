{
 "cells": [
  {
   "cell_type": "markdown",
   "id": "0ff83716-334a-453b-9f98-4fd860a331ce",
   "metadata": {},
   "source": [
    "## Assignment 1: Named Entities"
   ]
  },
  {
   "cell_type": "markdown",
   "id": "b84ace3c-6a9d-4ed0-81cb-44a8083f5f7d",
   "metadata": {},
   "source": [
    "#### These are the tasks: \n",
    "1. Download the dataset:\n",
    "www.kaggle.com/datasets/naseralqaydeh/named-entity-recognition-ner-corpus\n",
    "2. Apply a spacy-pipeline to visualize the named entities of the first 5 sentences in the dataset\n",
    "(Spacy: spacy.io)\n",
    "3. What is the frequency distribution of the predicted named-entity types?\n",
    "• Limit the evalualtion to the first 100 sentences\n",
    "• Visualize your analysis with one adequate plot type\n",
    "4. Master students: Create a token classification pipeline using huggingface\n",
    "• https://huggingface.co/learn/llm-course/chapter7/2\n",
    "5. How good is spacy's (and huggingface's) NER in comparison to dataset's ground truth?\n",
    "• Evaluate spacy's performance with one adequate metric of your choice\n",
    "• !Limit the evalualtion to the first 100 sentences and\n",
    "these types: 1) geo+gpe, 2) person, 3) organization!\n",
    "6. Optional: Perfom Entity Linking on the dataset: https://spacy.io/api/entitylinker\n",
    "Hints:\n",
    "• If necessary: Perform mapping of the entity types in Spacy / dataset\n",
    "• There are helpful data objects in spacy → maybe use them\n",
    "• sk-learn has plenty of ready-to-use metrics → no need to start from scratch!\n"
   ]
  },
  {
   "cell_type": "markdown",
   "id": "b33aca9d-c087-4f8c-a13d-f218fa9052a0",
   "metadata": {},
   "source": [
    "### Step 2"
   ]
  },
  {
   "cell_type": "code",
   "execution_count": 3,
   "id": "6b45510d-2804-4b48-92ed-3f03c4a5ab93",
   "metadata": {},
   "outputs": [],
   "source": [
    "import spacy\n",
    "from spacy import displacy\n",
    "nlp = spacy.load(\"en_core_web_sm\")"
   ]
  },
  {
   "cell_type": "code",
   "execution_count": 5,
   "id": "a7ee9d2d-4002-4a26-a145-12ad35d57c55",
   "metadata": {},
   "outputs": [
    {
     "name": "stdout",
     "output_type": "stream",
     "text": [
      "['Thousands of demonstrators have marched through London to protest the war in Iraq and demand the withdrawal of British troops from that country .', 'Families of soldiers killed in the conflict joined the protesters who carried banners with such slogans as \" Bush Number One Terrorist \" and \" Stop the Bombings . \"', 'They marched from the Houses of Parliament to a rally in Hyde Park .', 'Police put the number of marchers at 10,000 while organizers claimed it was 1,00,000 .', \"The protest comes on the eve of the annual conference of Britain 's ruling Labor Party in the southern English seaside resort of Brighton .\"]\n"
     ]
    }
   ],
   "source": [
    "import pandas as pd\n",
    "\n",
    "df = pd.read_csv(\"./archive/ner.csv\")\n",
    "first_five = df[\"Sentence\"].dropna().tolist()[:5]  # Replace with actual column name\n",
    "print(first_five)"
   ]
  },
  {
   "cell_type": "code",
   "execution_count": null,
   "id": "13733976-8498-428a-8e2a-afacdbdd109f",
   "metadata": {},
   "outputs": [],
   "source": []
  }
 ],
 "metadata": {
  "kernelspec": {
   "display_name": "Python 3 (ipykernel)",
   "language": "python",
   "name": "python3"
  },
  "language_info": {
   "codemirror_mode": {
    "name": "ipython",
    "version": 3
   },
   "file_extension": ".py",
   "mimetype": "text/x-python",
   "name": "python",
   "nbconvert_exporter": "python",
   "pygments_lexer": "ipython3",
   "version": "3.10.17"
  }
 },
 "nbformat": 4,
 "nbformat_minor": 5
}
