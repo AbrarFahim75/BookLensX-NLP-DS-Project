{
 "cells": [
  {
   "cell_type": "markdown",
   "id": "0ff83716-334a-453b-9f98-4fd860a331ce",
   "metadata": {},
   "source": [
    "## Assignment 1: Named Entities"
   ]
  },
  {
   "cell_type": "markdown",
   "id": "b84ace3c-6a9d-4ed0-81cb-44a8083f5f7d",
   "metadata": {},
   "source": [
    "#### These are the tasks: \n",
    "1. Download the dataset:\n",
    "www.kaggle.com/datasets/naseralqaydeh/named-entity-recognition-ner-corpus\n",
    "2. Apply a spacy-pipeline to visualize the named entities of the first 5 sentences in the dataset\n",
    "(Spacy: spacy.io)\n",
    "3. What is the frequency distribution of the predicted named-entity types?\n",
    "• Limit the evalualtion to the first 100 sentences\n",
    "• Visualize your analysis with one adequate plot type\n",
    "4. Master students: Create a token classification pipeline using huggingface\n",
    "• https://huggingface.co/learn/llm-course/chapter7/2\n",
    "5. How good is spacy's (and huggingface's) NER in comparison to dataset's ground truth?\n",
    "• Evaluate spacy's performance with one adequate metric of your choice\n",
    "• !Limit the evalualtion to the first 100 sentences and\n",
    "these types: 1) geo+gpe, 2) person, 3) organization!\n",
    "6. Optional: Perfom Entity Linking on the dataset: https://spacy.io/api/entitylinker\n",
    "Hints:\n",
    "• If necessary: Perform mapping of the entity types in Spacy / dataset\n",
    "• There are helpful data objects in spacy → maybe use them\n",
    "• sk-learn has plenty of ready-to-use metrics → no need to start from scratch!\n"
   ]
  },
  {
   "cell_type": "code",
   "execution_count": null,
   "id": "d6bb8fe6-804c-4a91-993b-573fe33bc293",
   "metadata": {},
   "outputs": [],
   "source": []
  }
 ],
 "metadata": {
  "kernelspec": {
   "display_name": "Python 3 (ipykernel)",
   "language": "python",
   "name": "python3"
  },
  "language_info": {
   "codemirror_mode": {
    "name": "ipython",
    "version": 3
   },
   "file_extension": ".py",
   "mimetype": "text/x-python",
   "name": "python",
   "nbconvert_exporter": "python",
   "pygments_lexer": "ipython3",
   "version": "3.13.3"
  }
 },
 "nbformat": 4,
 "nbformat_minor": 5
}
